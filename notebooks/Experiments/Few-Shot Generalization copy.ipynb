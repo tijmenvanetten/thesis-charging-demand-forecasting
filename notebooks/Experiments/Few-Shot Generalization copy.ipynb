{
 "cells": [
  {
   "cell_type": "code",
   "execution_count": 17,
   "metadata": {},
   "outputs": [
    {
     "name": "stdout",
     "output_type": "stream",
     "text": [
      "Loaded 9 time series each with length 365\n",
      "Number of data points in train, test:  37 328\n"
     ]
    }
   ],
   "source": [
    "import sys\n",
    "import os\n",
    "import logging\n",
    "sys.path.insert(1, os.path.join(sys.path[0], '../../src'))\n",
    "logging.getLogger(\"pytorch_lightning\").setLevel(logging.WARNING)\n",
    "import torch\n",
    "from pytorch_lightning.callbacks.early_stopping import EarlyStopping\n",
    "\n",
    "from darts.dataprocessing.transformers.scaler import Scaler\n",
    "from sklearn.preprocessing import MinMaxScaler\n",
    "from darts import concatenate\n",
    "from datasets import PaloAltoDataset, WeatherEcadDataset, ShellDataset\n",
    "from visualization import plot_time_series_predictions\n",
    "from eval import print_metrics\n",
    "### Load Dataset\n",
    "dataset = ShellDataset(subset=9)\n",
    "data = dataset.load_dataset(split=0.1)\n",
    "\n",
    "data['train'] = data['train'][5:]\n",
    "data['test'] = data['test'][5:]\n",
    "# Transform splits\n",
    "target_scaler = Scaler(MinMaxScaler())\n",
    "train_series = target_scaler.fit_transform(data['train'])\n",
    "test_series = target_scaler.transform(data['test'])\n",
    "\n",
    "# Load Covariates\n",
    "weather_dataset = WeatherEcadDataset()\n",
    "past_covariates = weather_dataset.load_covariates()\n",
    "\n",
    "# Scale Covariates\n",
    "covariates_scaler = Scaler(MinMaxScaler())\n",
    "past_covariates = covariates_scaler.fit_transform(past_covariates)\n",
    "print(\"Number of data points in train, test: \", len(data['train'][0]),  len(data['test'][0]))"
   ]
  },
  {
   "attachments": {},
   "cell_type": "markdown",
   "metadata": {},
   "source": []
  },
  {
   "cell_type": "code",
   "execution_count": 2,
   "metadata": {},
   "outputs": [],
   "source": [
    "from darts.models import NHiTSModel"
   ]
  },
  {
   "cell_type": "code",
   "execution_count": 7,
   "metadata": {},
   "outputs": [],
   "source": [
    "model = NHiTSModel.load(\"../../models/nhits_model_shell_4.pt\")"
   ]
  },
  {
   "cell_type": "code",
   "execution_count": 18,
   "metadata": {},
   "outputs": [
    {
     "name": "stderr",
     "output_type": "stream",
     "text": [
      "c:\\Users\\tijmen.vanetten\\AppData\\Local\\miniconda3\\envs\\darts\\lib\\site-packages\\pytorch_lightning\\trainer\\connectors\\data_connector.py:430: PossibleUserWarning: The dataloader, predict_dataloader, does not have many workers which may be a bottleneck. Consider increasing the value of the `num_workers` argument` (try 8 which is the number of cpus on this machine) in the `DataLoader` init to improve performance.\n",
      "  rank_zero_warn(\n",
      "c:\\Users\\tijmen.vanetten\\AppData\\Local\\miniconda3\\envs\\darts\\lib\\site-packages\\pytorch_lightning\\trainer\\connectors\\data_connector.py:430: PossibleUserWarning: The dataloader, predict_dataloader, does not have many workers which may be a bottleneck. Consider increasing the value of the `num_workers` argument` (try 8 which is the number of cpus on this machine) in the `DataLoader` init to improve performance.\n",
      "  rank_zero_warn(\n",
      "c:\\Users\\tijmen.vanetten\\AppData\\Local\\miniconda3\\envs\\darts\\lib\\site-packages\\pytorch_lightning\\trainer\\connectors\\data_connector.py:430: PossibleUserWarning: The dataloader, predict_dataloader, does not have many workers which may be a bottleneck. Consider increasing the value of the `num_workers` argument` (try 8 which is the number of cpus on this machine) in the `DataLoader` init to improve performance.\n",
      "  rank_zero_warn(\n"
     ]
    }
   ],
   "source": [
    "predictions = []\n",
    "for train_series_single, test_series_single in zip(train_series, test_series):\n",
    "    forecast = model.historical_forecasts(\n",
    "        series=concatenate([train_series_single, test_series_single]),\n",
    "        past_covariates=past_covariates,\n",
    "        start=test_series_single.start_time(),\n",
    "        forecast_horizon=1,\n",
    "        retrain=False\n",
    "    )\n",
    "    predictions.append(forecast)\n",
    "predictions = target_scaler.inverse_transform(predictions)"
   ]
  },
  {
   "cell_type": "code",
   "execution_count": null,
   "metadata": {},
   "outputs": [],
   "source": []
  }
 ],
 "metadata": {
  "kernelspec": {
   "display_name": "darts",
   "language": "python",
   "name": "python3"
  },
  "language_info": {
   "codemirror_mode": {
    "name": "ipython",
    "version": 3
   },
   "file_extension": ".py",
   "mimetype": "text/x-python",
   "name": "python",
   "nbconvert_exporter": "python",
   "pygments_lexer": "ipython3",
   "version": "3.10.9"
  },
  "orig_nbformat": 4
 },
 "nbformat": 4,
 "nbformat_minor": 2
}
