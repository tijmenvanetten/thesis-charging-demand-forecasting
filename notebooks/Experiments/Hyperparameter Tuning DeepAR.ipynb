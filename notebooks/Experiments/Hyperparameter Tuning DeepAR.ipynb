{
 "cells": [
  {
   "cell_type": "code",
   "execution_count": null,
   "metadata": {},
   "outputs": [],
   "source": [
    "import sys\n",
    "import os\n",
    "import logging\n",
    "sys.path.insert(1, os.path.join(sys.path[0], '../../src'))\n",
    "logging.getLogger(\"pytorch_lightning\").setLevel(logging.WARNING)"
   ]
  },
  {
   "cell_type": "code",
   "execution_count": null,
   "metadata": {},
   "outputs": [],
   "source": [
    "import torch\n",
    "from pytorch_lightning.callbacks.early_stopping import EarlyStopping\n",
    "\n",
    "from darts.dataprocessing.transformers.scaler import Scaler\n",
    "from sklearn.preprocessing import MinMaxScaler\n",
    "from darts import concatenate"
   ]
  },
  {
   "cell_type": "code",
   "execution_count": null,
   "metadata": {},
   "outputs": [],
   "source": [
    "from datasets import ShellDataset, WeatherEcadDataset\n",
    "from visualization import plot_time_series_predictions"
   ]
  },
  {
   "attachments": {},
   "cell_type": "markdown",
   "metadata": {},
   "source": [
    "### Load Dataset"
   ]
  },
  {
   "cell_type": "code",
   "execution_count": null,
   "metadata": {},
   "outputs": [],
   "source": [
    "dataset = ShellDataset(subset=3)\n",
    "data = dataset.load_dataset()\n",
    "\n",
    "# Transform splits\n",
    "target_scaler = Scaler(MinMaxScaler())\n",
    "train_series = target_scaler.fit_transform(data['train'])\n",
    "test_series = target_scaler.transform(data['test'])\n",
    "\n",
    "# Rebuild full series\n",
    "train_test_series = concatenate([train_series, test_series])"
   ]
  },
  {
   "cell_type": "code",
   "execution_count": null,
   "metadata": {},
   "outputs": [],
   "source": [
    "# Load Covariates\n",
    "weather_dataset = WeatherEcadDataset()\n",
    "past_covariates = weather_dataset.load_covariates()\n",
    "\n",
    "# Scale Covariates\n",
    "covariates_scaler = Scaler(MinMaxScaler())\n",
    "past_covariates = covariates_scaler.fit_transform(past_covariates)"
   ]
  },
  {
   "cell_type": "code",
   "execution_count": null,
   "metadata": {},
   "outputs": [],
   "source": [
    "print(\"Number of data points in train, test: \", len(data['train']),  len(data['test']))"
   ]
  },
  {
   "attachments": {},
   "cell_type": "markdown",
   "metadata": {},
   "source": [
    "### Set Experiment Parameters"
   ]
  },
  {
   "cell_type": "code",
   "execution_count": null,
   "metadata": {},
   "outputs": [],
   "source": [
    "FORECAST_HORIZON = 1"
   ]
  },
  {
   "cell_type": "code",
   "execution_count": null,
   "metadata": {},
   "outputs": [],
   "source": [
    "from darts.utils.timeseries_generation import holidays_timeseries\n",
    "\n",
    "add_encoders = {\n",
    "    'cyclic': {'future': ['month']},\n",
    "    'datetime_attribute': {'future': ['dayofweek', 'weekday']},\n",
    "    'position': {'past': ['relative'], 'future': ['relative']},\n",
    "    'custom': {'past': [lambda idx: (idx.year - 1950) / 50]},\n",
    "}"
   ]
  },
  {
   "attachments": {},
   "cell_type": "markdown",
   "metadata": {},
   "source": [
    "#### DeepAR"
   ]
  },
  {
   "cell_type": "code",
   "execution_count": null,
   "metadata": {},
   "outputs": [],
   "source": [
    "from darts.models import BlockRNNModel\n",
    "from darts.utils.likelihood_models import GaussianLikelihood\n",
    "# from dart\n",
    "def load_deeparmodel():\n",
    "    return BlockRNNModel(\n",
    "        model=\"LSTM\",\n",
    "        hidden_dim=150, \n",
    "        n_rnn_layers=3,\n",
    "        dropout=0.2,\n",
    "        batch_size=64,\n",
    "        add_encoders=add_encoders,\n",
    "        optimizer_kwargs={'lr': 1e-4}, \n",
    "        nr_epochs_val_period=1,\n",
    "        # log_tensorboard=logdir,\n",
    "        input_chunk_length=30,\n",
    "        output_chunk_length=FORECAST_HORIZON,\n",
    "        random_state=0,\n",
    "        likelihood=GaussianLikelihood(),\n",
    "        n_epochs=100,\n",
    "        # loss_fn=torch.nn.MSELoss(),\n",
    "        pl_trainer_kwargs={\"callbacks\": [EarlyStopping(monitor=\"val_loss\", patience=10, min_delta=0.01, mode='min')], \"log_every_n_steps\": 1},\n",
    "    )"
   ]
  },
  {
   "cell_type": "code",
   "execution_count": null,
   "metadata": {},
   "outputs": [],
   "source": [
    "parameters = {\n",
    "    \"model\": [\"LSTM\"],\n",
    "    \"batch_size\": [32],\n",
    "    \"add_encoders\": [add_encoders],\n",
    "    \"nr_epochs_val_period\": [1],\n",
    "    \"input_chunk_length\": [30],\n",
    "    \"output_chunk_length\": [FORECAST_HORIZON],\n",
    "    \"likelihood\": [GaussianLikelihood()],\n",
    "    \"hidden_dim\": [16, 32, 64, 128],\n",
    "    \"n_rnn_layers\": [1, 2, 3, 4],\n",
    "    \"dropout\": [0.0, 0.1, 0.2, 0.3, 0.4],\n",
    "    \"optimizer_kwargs\": [{\"lr\": 1e-3}, {\"lr\": 1e-4}, {\"lr\": 1e-5}],\n",
    "    # \"pl_trainer_kwargs\": [{\"callbacks\": [EarlyStopping(monitor=\"val_loss\", patience=10, min_delta=0.01, mode='min')], \"log_every_n_steps\": 1}],\n",
    "}"
   ]
  },
  {
   "cell_type": "code",
   "execution_count": null,
   "metadata": {},
   "outputs": [],
   "source": [
    "%%capture\n",
    "train_series_single_train, train_series_single_valid = train_series.split_after(0.7)\n",
    "\n",
    "model, params, score = BlockRNNModel.gridsearch(\n",
    "    parameters,\n",
    "    series=train_series_single_train,\n",
    "    val_series=train_series_single_valid,\n",
    "    past_covariates=past_covariates,\n",
    ")\n",
    "\n",
    "print(params)\n"
   ]
  },
  {
   "cell_type": "code",
   "execution_count": null,
   "metadata": {},
   "outputs": [],
   "source": []
  }
 ],
 "metadata": {
  "kernelspec": {
   "display_name": "kedro",
   "language": "python",
   "name": "python3"
  },
  "language_info": {
   "codemirror_mode": {
    "name": "ipython",
    "version": 3
   },
   "file_extension": ".py",
   "mimetype": "text/x-python",
   "name": "python",
   "nbconvert_exporter": "python",
   "pygments_lexer": "ipython3",
   "version": "3.10.9"
  },
  "orig_nbformat": 4
 },
 "nbformat": 4,
 "nbformat_minor": 2
}
