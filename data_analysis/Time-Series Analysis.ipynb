{
 "cells": [
  {
   "cell_type": "code",
   "execution_count": null,
   "metadata": {},
   "outputs": [],
   "source": [
    "import numpy as np\n",
    "import pandas as pd\n",
    "import matplotlib.pyplot as plt\n",
    "import seaborn as sns\n",
    "import matplotlib.ticker as ticker"
   ]
  },
  {
   "cell_type": "code",
   "execution_count": null,
   "metadata": {},
   "outputs": [],
   "source": [
    "from statsmodels.tsa.seasonal import seasonal_decompose"
   ]
  },
  {
   "cell_type": "code",
   "execution_count": null,
   "metadata": {},
   "outputs": [],
   "source": [
    "df = pd.read_csv('../data/processed/uk_sessions_2022-01-01_2022-11-01.csv')\n",
    "df = df.rename(columns={'ENERGY_DELIVERED_KWH':'ENERGY'})\n",
    "df['SESSION_STOP'] = pd.to_datetime(df['SESSION_STOP'])\n",
    "df['DATE'] = df['SESSION_STOP'].dt.date\n",
    "df_daily = df.groupby(['LOCATION_ID', 'DATE']).sum('ENERGY')\n",
    "df_locations = df_daily.groupby('LOCATION_ID')"
   ]
  },
  {
   "cell_type": "code",
   "execution_count": null,
   "metadata": {},
   "outputs": [],
   "source": [
    "df1 = dict(list(df_locations))[766827].droplevel(level=0)\n",
    "df1.sort_index(inplace=True)"
   ]
  },
  {
   "cell_type": "code",
   "execution_count": null,
   "metadata": {},
   "outputs": [],
   "source": [
    "print(df1['ENERGY'].autocorr(lag=1))\n",
    "print(df1['ENERGY'].autocorr(lag=2))\n",
    "print(df1['ENERGY'].autocorr(lag=3))\n",
    "print(df1['ENERGY'].autocorr(lag=4))"
   ]
  },
  {
   "cell_type": "code",
   "execution_count": null,
   "metadata": {},
   "outputs": [],
   "source": [
    "df1['ENERGY']"
   ]
  },
  {
   "cell_type": "code",
   "execution_count": null,
   "metadata": {},
   "outputs": [],
   "source": [
    "plt.plot(df1['ENERGY'])"
   ]
  },
  {
   "cell_type": "code",
   "execution_count": null,
   "metadata": {},
   "outputs": [],
   "source": [
    "result_add = seasonal_decompose(df1['ENERGY'], model ='add')\n",
    "result_add.plot();\n",
    "result_mul = seasonal_decompose(df1['ENERGY'], model = 'mul')\n",
    "result_mul.plot();"
   ]
  },
  {
   "cell_type": "code",
   "execution_count": null,
   "metadata": {},
   "outputs": [],
   "source": [
    "df_daily['ENERGY_NAIVE_PRED'] = df_daily['ENERGY'].shift(1)"
   ]
  },
  {
   "cell_type": "code",
   "execution_count": null,
   "metadata": {},
   "outputs": [],
   "source": [
    "from sklearn.metrics import mean_squared_error, mean_absolute_percentage_error"
   ]
  },
  {
   "cell_type": "code",
   "execution_count": null,
   "metadata": {},
   "outputs": [],
   "source": [
    "indices = df_daily['ENERGY_NAIVE_PRED'].dropna().index\n",
    "mean_absolute_percentage_error(df_daily['ENERGY'][indices], df_daily['ENERGY_NAIVE_PRED'][indices])"
   ]
  },
  {
   "cell_type": "code",
   "execution_count": null,
   "metadata": {},
   "outputs": [],
   "source": [
    "df_daily[['ENERGY_NAIVE_PRED', 'ENERGY']].plot()"
   ]
  },
  {
   "cell_type": "code",
   "execution_count": null,
   "metadata": {},
   "outputs": [],
   "source": []
  }
 ],
 "metadata": {
  "kernelspec": {
   "display_name": "charging_demand",
   "language": "python",
   "name": "python3"
  },
  "language_info": {
   "codemirror_mode": {
    "name": "ipython",
    "version": 3
   },
   "file_extension": ".py",
   "mimetype": "text/x-python",
   "name": "python",
   "nbconvert_exporter": "python",
   "pygments_lexer": "ipython3",
   "version": "3.10.9"
  },
  "orig_nbformat": 4,
  "vscode": {
   "interpreter": {
    "hash": "3a0ecb224c7d9f1b1f4d49a9bc701e6ad55e72c0f342198c5394847e2adef3c2"
   }
  }
 },
 "nbformat": 4,
 "nbformat_minor": 2
}
